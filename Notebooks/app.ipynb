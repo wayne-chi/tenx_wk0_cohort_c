{
 "cells": [
  {
   "cell_type": "code",
   "execution_count": null,
   "metadata": {},
   "outputs": [],
   "source": []
  },
  {
   "cell_type": "code",
   "execution_count": 1,
   "metadata": {},
   "outputs": [
    {
     "name": "stderr",
     "output_type": "stream",
     "text": [
      "2024-08-31 12:37:52.452 WARNING streamlit.runtime.scriptrunner_utils.script_run_context: Thread 'MainThread': missing ScriptRunContext! This warning can be ignored when running in bare mode.\n",
      "2024-08-31 12:37:53.024 \n",
      "  \u001b[33m\u001b[1mWarning:\u001b[0m to view this Streamlit app on a browser, run it with the following\n",
      "  command:\n",
      "\n",
      "    streamlit run c:\\Users\\otto\\anaconda3\\envs\\myenv\\Lib\\site-packages\\ipykernel_launcher.py [ARGUMENTS]\n",
      "2024-08-31 12:37:53.025 Thread 'MainThread': missing ScriptRunContext! This warning can be ignored when running in bare mode.\n",
      "2024-08-31 12:37:53.026 Thread 'MainThread': missing ScriptRunContext! This warning can be ignored when running in bare mode.\n",
      "2024-08-31 12:37:53.028 Thread 'MainThread': missing ScriptRunContext! This warning can be ignored when running in bare mode.\n",
      "2024-08-31 12:37:53.031 Thread 'MainThread': missing ScriptRunContext! This warning can be ignored when running in bare mode.\n",
      "2024-08-31 12:37:53.032 Thread 'MainThread': missing ScriptRunContext! This warning can be ignored when running in bare mode.\n",
      "2024-08-31 12:37:53.036 Thread 'MainThread': missing ScriptRunContext! This warning can be ignored when running in bare mode.\n",
      "2024-08-31 12:37:53.041 Thread 'MainThread': missing ScriptRunContext! This warning can be ignored when running in bare mode.\n",
      "2024-08-31 12:37:53.046 Thread 'MainThread': missing ScriptRunContext! This warning can be ignored when running in bare mode.\n",
      "2024-08-31 12:37:53.050 Thread 'MainThread': missing ScriptRunContext! This warning can be ignored when running in bare mode.\n",
      "2024-08-31 12:37:53.055 Thread 'MainThread': missing ScriptRunContext! This warning can be ignored when running in bare mode.\n",
      "2024-08-31 12:37:53.059 Session state does not function when running a script without `streamlit run`\n",
      "2024-08-31 12:37:53.063 Thread 'MainThread': missing ScriptRunContext! This warning can be ignored when running in bare mode.\n",
      "2024-08-31 12:37:53.067 Thread 'MainThread': missing ScriptRunContext! This warning can be ignored when running in bare mode.\n",
      "2024-08-31 12:37:53.069 Thread 'MainThread': missing ScriptRunContext! This warning can be ignored when running in bare mode.\n",
      "2024-08-31 12:37:53.074 Thread 'MainThread': missing ScriptRunContext! This warning can be ignored when running in bare mode.\n",
      "2024-08-31 12:37:53.083 Thread 'MainThread': missing ScriptRunContext! This warning can be ignored when running in bare mode.\n",
      "2024-08-31 12:37:53.084 Thread 'MainThread': missing ScriptRunContext! This warning can be ignored when running in bare mode.\n",
      "2024-08-31 12:37:53.087 Thread 'MainThread': missing ScriptRunContext! This warning can be ignored when running in bare mode.\n",
      "2024-08-31 12:37:53.089 Thread 'MainThread': missing ScriptRunContext! This warning can be ignored when running in bare mode.\n",
      "2024-08-31 12:37:53.090 Thread 'MainThread': missing ScriptRunContext! This warning can be ignored when running in bare mode.\n",
      "2024-08-31 12:37:53.097 Thread 'MainThread': missing ScriptRunContext! This warning can be ignored when running in bare mode.\n",
      "2024-08-31 12:37:53.099 Thread 'MainThread': missing ScriptRunContext! This warning can be ignored when running in bare mode.\n",
      "2024-08-31 12:37:53.101 Thread 'MainThread': missing ScriptRunContext! This warning can be ignored when running in bare mode.\n",
      "2024-08-31 12:37:53.102 Thread 'MainThread': missing ScriptRunContext! This warning can be ignored when running in bare mode.\n",
      "2024-08-31 12:37:53.105 Thread 'MainThread': missing ScriptRunContext! This warning can be ignored when running in bare mode.\n",
      "2024-08-31 12:37:53.106 Thread 'MainThread': missing ScriptRunContext! This warning can be ignored when running in bare mode.\n",
      "2024-08-31 12:37:53.111 Thread 'MainThread': missing ScriptRunContext! This warning can be ignored when running in bare mode.\n",
      "2024-08-31 12:37:53.117 Thread 'MainThread': missing ScriptRunContext! This warning can be ignored when running in bare mode.\n",
      "2024-08-31 12:37:53.118 Thread 'MainThread': missing ScriptRunContext! This warning can be ignored when running in bare mode.\n",
      "2024-08-31 12:37:53.120 Thread 'MainThread': missing ScriptRunContext! This warning can be ignored when running in bare mode.\n",
      "2024-08-31 12:37:53.121 Thread 'MainThread': missing ScriptRunContext! This warning can be ignored when running in bare mode.\n",
      "2024-08-31 12:37:53.122 Thread 'MainThread': missing ScriptRunContext! This warning can be ignored when running in bare mode.\n",
      "2024-08-31 12:37:53.128 Thread 'MainThread': missing ScriptRunContext! This warning can be ignored when running in bare mode.\n",
      "2024-08-31 12:37:53.130 Thread 'MainThread': missing ScriptRunContext! This warning can be ignored when running in bare mode.\n",
      "2024-08-31 12:37:53.132 Thread 'MainThread': missing ScriptRunContext! This warning can be ignored when running in bare mode.\n",
      "2024-08-31 12:37:53.133 Thread 'MainThread': missing ScriptRunContext! This warning can be ignored when running in bare mode.\n",
      "2024-08-31 12:37:53.135 Thread 'MainThread': missing ScriptRunContext! This warning can be ignored when running in bare mode.\n",
      "2024-08-31 12:37:53.136 Thread 'MainThread': missing ScriptRunContext! This warning can be ignored when running in bare mode.\n",
      "2024-08-31 12:37:53.137 Thread 'MainThread': missing ScriptRunContext! This warning can be ignored when running in bare mode.\n",
      "2024-08-31 12:37:53.138 Thread 'MainThread': missing ScriptRunContext! This warning can be ignored when running in bare mode.\n",
      "2024-08-31 12:37:53.141 Thread 'MainThread': missing ScriptRunContext! This warning can be ignored when running in bare mode.\n",
      "2024-08-31 12:37:53.144 Thread 'MainThread': missing ScriptRunContext! This warning can be ignored when running in bare mode.\n",
      "2024-08-31 12:37:53.148 Thread 'MainThread': missing ScriptRunContext! This warning can be ignored when running in bare mode.\n",
      "2024-08-31 12:37:53.153 Thread 'MainThread': missing ScriptRunContext! This warning can be ignored when running in bare mode.\n",
      "2024-08-31 12:37:53.171 Thread 'MainThread': missing ScriptRunContext! This warning can be ignored when running in bare mode.\n",
      "2024-08-31 12:37:53.178 Thread 'MainThread': missing ScriptRunContext! This warning can be ignored when running in bare mode.\n",
      "2024-08-31 12:37:53.180 Thread 'MainThread': missing ScriptRunContext! This warning can be ignored when running in bare mode.\n",
      "2024-08-31 12:37:53.184 Thread 'MainThread': missing ScriptRunContext! This warning can be ignored when running in bare mode.\n",
      "2024-08-31 12:37:53.186 Thread 'MainThread': missing ScriptRunContext! This warning can be ignored when running in bare mode.\n",
      "2024-08-31 12:37:53.948 Thread 'MainThread': missing ScriptRunContext! This warning can be ignored when running in bare mode.\n",
      "2024-08-31 12:37:53.950 Thread 'MainThread': missing ScriptRunContext! This warning can be ignored when running in bare mode.\n",
      "2024-08-31 12:37:53.952 Thread 'MainThread': missing ScriptRunContext! This warning can be ignored when running in bare mode.\n",
      "2024-08-31 12:37:53.954 Thread 'MainThread': missing ScriptRunContext! This warning can be ignored when running in bare mode.\n",
      "2024-08-31 12:37:53.996 Thread 'MainThread': missing ScriptRunContext! This warning can be ignored when running in bare mode.\n",
      "2024-08-31 12:37:53.996 Thread 'MainThread': missing ScriptRunContext! This warning can be ignored when running in bare mode.\n"
     ]
    },
    {
     "data": {
      "text/plain": [
       "DeltaGenerator()"
      ]
     },
     "execution_count": 1,
     "metadata": {},
     "output_type": "execute_result"
    }
   ],
   "source": [
    "import streamlit as st\n",
    "import pandas as pd\n",
    "\n",
    "# 1. App Heading\n",
    "st.title(\"Topic Modelling Dashboard\")\n",
    "\n",
    "# 2. File Upload Option\n",
    "uploaded_file = st.file_uploader(\"Upload text file\", type=[\"txt\"])\n",
    "if uploaded_file is not None:\n",
    "    article_text = uploaded_file.read().decode(\"utf-8\")\n",
    "else:\n",
    "    article_text = \"No file uploaded yet.\"\n",
    "\n",
    "# 3. Keyword Extraction Subheading\n",
    "st.subheader(\"Keyword Extraction\")\n",
    "\n",
    "# 4. Top N Entry Box\n",
    "top_n_keywords = st.number_input(\"Top N\", min_value=1, max_value=100, value=10, step=1)\n",
    "\n",
    "# 5. Model Dropdown for Keyword Extraction\n",
    "keyword_model = st.selectbox(\"Model\", [\"TF-IDF\", \"YAKE\", \"Dummy Model 1\"])\n",
    "\n",
    "# 6. Scrollable Text Box for Keyword Extraction Results\n",
    "st.text_area(\"Keywords Extracted\", value=\"Results will be displayed here...\", height=150, max_chars=None, key=None)\n",
    "\n",
    "# 7. Topic Prediction Subheading\n",
    "st.subheader(\"Topic Prediction\")\n",
    "\n",
    "# 8. Top N Entry Box for Topic Prediction\n",
    "top_n_topics = st.number_input(\"Top N Topics\", min_value=1, max_value=100, value=10, step=1)\n",
    "\n",
    "# 9. Model Dropdown for Topic Prediction\n",
    "topic_model = st.selectbox(\"Model\", [\"LDA\", \"NMF\", \"Dummy Model 2\"])\n",
    "\n",
    "# 10. Scrollable Text Box for Topic Prediction Results\n",
    "st.text_area(\"Topics Predicted\", value=\"Results will be displayed here...\", height=150, max_chars=None, key=None)\n",
    "\n",
    "# 11. Domain Selection\n",
    "st.subheader(\"Select Domain\")\n",
    "domain_selected = st.selectbox(\"Domain\", [\"forbes.com\", \"bbc.com\", \"cnn.com\"])\n",
    "\n",
    "# 12. Bar Graph of Topics\n",
    "st.subheader(\"Bar Graph of Topics\")\n",
    "st.bar_chart(pd.DataFrame({\n",
    "    'Topics': [5, 7, 8, 10],\n",
    "    'Count': [3, 1, 2, 1]\n",
    "}))\n",
    "\n",
    "# 13. Bar Graph of Sentiments\n",
    "st.subheader(\"Bar Graph of Sentiments\")\n",
    "st.bar_chart(pd.DataFrame({\n",
    "    'Sentiments': ['Positive', 'Negative', 'Neutral'],\n",
    "    'Count': [3, 1, 1]\n",
    "}))\n"
   ]
  },
  {
   "cell_type": "code",
   "execution_count": 2,
   "metadata": {},
   "outputs": [],
   "source": [
    "import nltk\n",
    "from nltk.corpus import stopwords\n",
    "from nltk.tokenize import word_tokenize\n",
    "from nltk.stem import WordNetLemmatizer\n",
    "\n",
    "import pandas as pd\n",
    "import numpy as np\n",
    "import seaborn as sns\n",
    "import matplotlib.pyplot as plt\n",
    "\n",
    "from Preprocess import LoadModels\n",
    "from Preprocess.Preprocess import  preprocess_text_lemmatize\n",
    "from sklearn.feature_extraction.text import TfidfVectorizer\n"
   ]
  },
  {
   "cell_type": "code",
   "execution_count": 4,
   "metadata": {},
   "outputs": [],
   "source": []
  },
  {
   "cell_type": "code",
   "execution_count": 6,
   "metadata": {},
   "outputs": [],
   "source": [
    "text = \"This is an example text from which we want to extract important keywords using the TF-IDF vectorizer.\"\n",
    "m_path = '../Models/keyword_extractor_tfidf_vectorizer.joblib'"
   ]
  },
  {
   "cell_type": "code",
   "execution_count": 19,
   "metadata": {},
   "outputs": [],
   "source": [
    "extractor = LoadModels.TfidfExtractor(m_path)"
   ]
  },
  {
   "cell_type": "code",
   "execution_count": 20,
   "metadata": {},
   "outputs": [],
   "source": [
    "cleaned_text = preprocess_text_lemmatize(text)"
   ]
  },
  {
   "cell_type": "code",
   "execution_count": null,
   "metadata": {},
   "outputs": [],
   "source": [
    "keyword_model = 'TF_IDF'"
   ]
  },
  {
   "cell_type": "code",
   "execution_count": null,
   "metadata": {},
   "outputs": [],
   "source": [
    "if keyword_model == \"YAKE\":\n",
    "    m_path = '../Models/yake_params.json'\n",
    "    extractor = LoadModels.YAKEExtractor(m_path)\n",
    "    pass\n",
    "else:\n",
    "    m_path = '../Models/keyword_extractor_tfidf_vectorizer.joblib'\n",
    "    extractor = LoadModels.TfidfExtractor()\n",
    "\n"
   ]
  },
  {
   "cell_type": "code",
   "execution_count": 24,
   "metadata": {},
   "outputs": [],
   "source": [
    "keywords = extractor.extract_keywords(cleaned_text)"
   ]
  },
  {
   "cell_type": "code",
   "execution_count": 25,
   "metadata": {},
   "outputs": [],
   "source": [
    "ktx = \"\\n\".join([f\"{i+1}. {v.title()}\" for i,v in enumerate(keywords)])"
   ]
  },
  {
   "cell_type": "code",
   "execution_count": 38,
   "metadata": {},
   "outputs": [],
   "source": [
    "nmf_vector_path = '../Models/nmf_tfidf_vectorizer.joblib'\n",
    "nmf_model_path = '../Models/nmf_model.joblib'\n",
    "\n",
    "# paths\n",
    "lsi_model_path = '../Models/lsi_model.gensim'\n",
    "lsi_vector_path = '../Models/lsi_dictionary.gensim'\n",
    "\n",
    "lda_model_path = '../Models/lda_model.joblib'\n",
    "lda_vector_path =  '../Models/lda_tfidf_vectorizer.joblib'\n",
    "\n",
    "chosen_model = 'NMF'\n",
    "\n",
    "if chosen_model == 'LDA':\n",
    "    topic_model_path = lda_model_path\n",
    "    topic_vector_path = lda_vector_path\n",
    "    topic_model_name = 'lda'\n",
    "\n",
    "elif chosen_model == 'LSI':\n",
    "    topic_model_path = lsi_model_path\n",
    "    topic_vector_path = lda_vector_path\n",
    "    topic_model_name = 'lsi'\n",
    "\n",
    "elif chosen_model == 'NMF':\n",
    "    topic_model_path = nmf_model_path\n",
    "    topic_vector_path = nmf_vector_path\n",
    "    topic_model_name = 'nmf'"
   ]
  },
  {
   "cell_type": "code",
   "execution_count": 32,
   "metadata": {},
   "outputs": [],
   "source": [
    "from sklearn.decomposition import LatentDirichletAllocation"
   ]
  },
  {
   "cell_type": "code",
   "execution_count": 42,
   "metadata": {},
   "outputs": [],
   "source": [
    "import joblib"
   ]
  },
  {
   "cell_type": "code",
   "execution_count": 43,
   "metadata": {},
   "outputs": [],
   "source": [
    "lda_model = joblib.load(lda_model_path)"
   ]
  },
  {
   "cell_type": "code",
   "execution_count": 44,
   "metadata": {},
   "outputs": [
    {
     "name": "stdout",
     "output_type": "stream",
     "text": [
      "Model loaded successfully!\n"
     ]
    }
   ],
   "source": [
    "if isinstance(lda_model, LatentDirichletAllocation):\n",
    "    print(\"Model loaded successfully!\")\n",
    "else:\n",
    "    print(\"Error: Loaded model is not an LDA model.\")\n",
    "    "
   ]
  },
  {
   "cell_type": "code",
   "execution_count": 45,
   "metadata": {},
   "outputs": [
    {
     "ename": "AttributeError",
     "evalue": "'LatentDirichletAllocation' object has no attribute 'components_'",
     "output_type": "error",
     "traceback": [
      "\u001b[1;31m---------------------------------------------------------------------------\u001b[0m",
      "\u001b[1;31mAttributeError\u001b[0m                            Traceback (most recent call last)",
      "Cell \u001b[1;32mIn[45], line 1\u001b[0m\n\u001b[1;32m----> 1\u001b[0m \u001b[43mlda_model\u001b[49m\u001b[38;5;241;43m.\u001b[39;49m\u001b[43mcomponents_\u001b[49m\n",
      "\u001b[1;31mAttributeError\u001b[0m: 'LatentDirichletAllocation' object has no attribute 'components_'"
     ]
    }
   ],
   "source": [
    "lda_model.components_"
   ]
  },
  {
   "cell_type": "code",
   "execution_count": 39,
   "metadata": {},
   "outputs": [],
   "source": [
    "tp_model = LoadModels.TopicModelPredictor(topic_model_path, topic_vector_path, topic_model_name, no_top_words=10)"
   ]
  },
  {
   "cell_type": "code",
   "execution_count": 40,
   "metadata": {},
   "outputs": [
    {
     "data": {
      "text/plain": [
       "'like, one, go, make, say, time, work, even, look, get'"
      ]
     },
     "execution_count": 40,
     "metadata": {},
     "output_type": "execute_result"
    }
   ],
   "source": [
    "tp_model.predict(cleaned_text)"
   ]
  },
  {
   "cell_type": "code",
   "execution_count": 52,
   "metadata": {},
   "outputs": [
    {
     "name": "stderr",
     "output_type": "stream",
     "text": [
      "C:\\Users\\otto\\AppData\\Local\\Temp\\ipykernel_13696\\314172397.py:25: UserWarning:\n",
      "\n",
      "pandas only supports SQLAlchemy connectable (engine/connection) or database string URI or sqlite3 DBAPI2 connection. Other DBAPI2 objects are not tested. Please consider using SQLAlchemy.\n",
      "\n",
      "2024-08-31 17:20:49.956 Thread 'MainThread': missing ScriptRunContext! This warning can be ignored when running in bare mode.\n",
      "2024-08-31 17:20:49.957 Thread 'MainThread': missing ScriptRunContext! This warning can be ignored when running in bare mode.\n",
      "2024-08-31 17:20:49.959 Thread 'MainThread': missing ScriptRunContext! This warning can be ignored when running in bare mode.\n",
      "2024-08-31 17:20:49.967 Thread 'MainThread': missing ScriptRunContext! This warning can be ignored when running in bare mode.\n",
      "2024-08-31 17:20:49.978 Thread 'MainThread': missing ScriptRunContext! This warning can be ignored when running in bare mode.\n"
     ]
    }
   ],
   "source": [
    "import os\n",
    "import pandas as pd\n",
    "import psycopg2\n",
    "from dotenv import load_dotenv\n",
    "import streamlit as st\n",
    "import plotly.express as px\n",
    "\n",
    "# Load environment variables from .env file\n",
    "load_dotenv()\n",
    "\n",
    "# Get PostgreSQL credentials from environment variables\n",
    "user = os.getenv(\"POSTGRES_USER\")\n",
    "password = os.getenv(\"POSTGRES_PASSWORD\")\n",
    "host = os.getenv(\"POSTGRES_HOST\")\n",
    "database = os.getenv(\"POSTGRES_DB\")\n",
    "\n",
    "# Connect to PostgreSQL Database and retrieve all data\n",
    "def get_data_from_db(query):\n",
    "    conn = psycopg2.connect(\n",
    "        host=host,\n",
    "        database=database,\n",
    "        user=user,\n",
    "        password=password\n",
    "    )\n",
    "    df = pd.read_sql_query(query, conn)\n",
    "    conn.close()\n",
    "    return df\n",
    "\n",
    "# Query to get all data from the table\n",
    "query_all_data = \"SELECT * FROM ml_features;\"\n",
    "df = get_data_from_db(query_all_data)\n",
    "\n",
    "# Step 1: Create select box for domains\n",
    "unique_domains = df['domain'].unique()\n",
    "selected_domain = st.selectbox(\"Select domain\", unique_domains)\n",
    "\n",
    "# Step 2: Filter data based on the selected domain\n",
    "filtered_df = df[df['domain'] == selected_domain]\n",
    "\n",
    "# Step 3: Create and display the bar chart of tags distribution\n",
    "# st.header(f\"Tags Distribution for Domain: {selected_domain}\")\n",
    "\n",
    "tag_counts = filtered_df['tags'].str.split(',', expand=True).stack().value_counts()\n",
    "fig_tags = px.bar(tag_counts, x=tag_counts.index, y=tag_counts.values, labels={'x': 'Tags', 'y': 'Count'})\n",
    "# st.plotly_chart(fig_tags)\n",
    "\n",
    "# Step 4: Create and display the bar chart of LDA topics number distribution\n",
    "# st.header(f\"LDA Topics Number Distribution for Domain: {selected_domain}\")\n",
    "\n",
    "lda_counts = filtered_df['lda_topics_n'].value_counts()\n",
    "fig_lda = px.bar(lda_counts, x=lda_counts.index, y=lda_counts.values, labels={'x': 'LDA Topics Number', 'y': 'Count'})\n",
    "# st.plotly_chart(fig_lda)\n",
    "\n",
    "# Step 5: Display unique LDA topics numbers\n",
    "# st.header(f\"Unique LDA Topics Numbers for Domain: {selected_domain}\")\n",
    "\n",
    "ndf = pd.read_csv('../data/lda_pair.csv')\n",
    "# unique_lda_topics = filtered_df[['lda_topics' ,'lda_topics_n']].unique()\n",
    "# st.write(f\"Unique  Topics Numbers: {unique_lda_topics}\")\n"
   ]
  },
  {
   "cell_type": "code",
   "execution_count": 53,
   "metadata": {},
   "outputs": [
    {
     "data": {
      "text/html": [
       "<div>\n",
       "<style scoped>\n",
       "    .dataframe tbody tr th:only-of-type {\n",
       "        vertical-align: middle;\n",
       "    }\n",
       "\n",
       "    .dataframe tbody tr th {\n",
       "        vertical-align: top;\n",
       "    }\n",
       "\n",
       "    .dataframe thead th {\n",
       "        text-align: right;\n",
       "    }\n",
       "</style>\n",
       "<table border=\"1\" class=\"dataframe\">\n",
       "  <thead>\n",
       "    <tr style=\"text-align: right;\">\n",
       "      <th></th>\n",
       "      <th>lda_topics</th>\n",
       "      <th>lda_topics_n</th>\n",
       "    </tr>\n",
       "  </thead>\n",
       "  <tbody>\n",
       "    <tr>\n",
       "      <th>0</th>\n",
       "      <td>film, cup, game, world, team, match, play, win...</td>\n",
       "      <td>19</td>\n",
       "    </tr>\n",
       "    <tr>\n",
       "      <th>1</th>\n",
       "      <td>climat, studi, said, research, water, use, sci...</td>\n",
       "      <td>16</td>\n",
       "    </tr>\n",
       "    <tr>\n",
       "      <th>2</th>\n",
       "      <td>gaza, israel, isra, palestinian, hama, said, a...</td>\n",
       "      <td>4</td>\n",
       "    </tr>\n",
       "    <tr>\n",
       "      <th>3</th>\n",
       "      <td>said, polic, court, arrest, investig, case, go...</td>\n",
       "      <td>9</td>\n",
       "    </tr>\n",
       "    <tr>\n",
       "      <th>4</th>\n",
       "      <td>ai, technolog, compani, innov, develop, custom...</td>\n",
       "      <td>11</td>\n",
       "    </tr>\n",
       "    <tr>\n",
       "      <th>5</th>\n",
       "      <td>nigeria, nigerian, africa, african, lago, stat...</td>\n",
       "      <td>13</td>\n",
       "    </tr>\n",
       "    <tr>\n",
       "      <th>6</th>\n",
       "      <td>ukrain, russia, russian, china, said, countri,...</td>\n",
       "      <td>3</td>\n",
       "    </tr>\n",
       "    <tr>\n",
       "      <th>7</th>\n",
       "      <td>googl, appl, use, featur, deal, amazon, user, ...</td>\n",
       "      <td>5</td>\n",
       "    </tr>\n",
       "    <tr>\n",
       "      <th>8</th>\n",
       "      <td>said, peopl, say, work, like, one, go, time, w...</td>\n",
       "      <td>0</td>\n",
       "    </tr>\n",
       "    <tr>\n",
       "      <th>9</th>\n",
       "      <td>stock, ratio, averag, trade, share, compani, r...</td>\n",
       "      <td>6</td>\n",
       "    </tr>\n",
       "    <tr>\n",
       "      <th>10</th>\n",
       "      <td>statement, compani, inform, result, financi, s...</td>\n",
       "      <td>2</td>\n",
       "    </tr>\n",
       "    <tr>\n",
       "      <th>11</th>\n",
       "      <td>elect, parti, vote, said, congress, govern, po...</td>\n",
       "      <td>17</td>\n",
       "    </tr>\n",
       "    <tr>\n",
       "      <th>12</th>\n",
       "      <td>market, global, industri, forecast, growth, re...</td>\n",
       "      <td>15</td>\n",
       "    </tr>\n",
       "    <tr>\n",
       "      <th>13</th>\n",
       "      <td>stock, share, quarter, compani, rate, report, ...</td>\n",
       "      <td>18</td>\n",
       "    </tr>\n",
       "    <tr>\n",
       "      <th>14</th>\n",
       "      <td>india, news, view, econom, time, digit, epap, ...</td>\n",
       "      <td>14</td>\n",
       "    </tr>\n",
       "    <tr>\n",
       "      <th>15</th>\n",
       "      <td>min, stock, read, price, upsid, rs, share, mar...</td>\n",
       "      <td>10</td>\n",
       "    </tr>\n",
       "    <tr>\n",
       "      <th>16</th>\n",
       "      <td>stock, share, quarter, compani, own, rate, tra...</td>\n",
       "      <td>8</td>\n",
       "    </tr>\n",
       "    <tr>\n",
       "      <th>17</th>\n",
       "      <td>music, de, star, bodi, children, place, work, ...</td>\n",
       "      <td>1</td>\n",
       "    </tr>\n",
       "    <tr>\n",
       "      <th>18</th>\n",
       "      <td>stock, compani, compar, earn, indic, share, se...</td>\n",
       "      <td>7</td>\n",
       "    </tr>\n",
       "    <tr>\n",
       "      <th>19</th>\n",
       "      <td>game, sport, bet, player, good, onlin, play, m...</td>\n",
       "      <td>12</td>\n",
       "    </tr>\n",
       "  </tbody>\n",
       "</table>\n",
       "</div>"
      ],
      "text/plain": [
       "                                           lda_topics  lda_topics_n\n",
       "0   film, cup, game, world, team, match, play, win...            19\n",
       "1   climat, studi, said, research, water, use, sci...            16\n",
       "2   gaza, israel, isra, palestinian, hama, said, a...             4\n",
       "3   said, polic, court, arrest, investig, case, go...             9\n",
       "4   ai, technolog, compani, innov, develop, custom...            11\n",
       "5   nigeria, nigerian, africa, african, lago, stat...            13\n",
       "6   ukrain, russia, russian, china, said, countri,...             3\n",
       "7   googl, appl, use, featur, deal, amazon, user, ...             5\n",
       "8   said, peopl, say, work, like, one, go, time, w...             0\n",
       "9   stock, ratio, averag, trade, share, compani, r...             6\n",
       "10  statement, compani, inform, result, financi, s...             2\n",
       "11  elect, parti, vote, said, congress, govern, po...            17\n",
       "12  market, global, industri, forecast, growth, re...            15\n",
       "13  stock, share, quarter, compani, rate, report, ...            18\n",
       "14  india, news, view, econom, time, digit, epap, ...            14\n",
       "15  min, stock, read, price, upsid, rs, share, mar...            10\n",
       "16  stock, share, quarter, compani, own, rate, tra...             8\n",
       "17  music, de, star, bodi, children, place, work, ...             1\n",
       "18  stock, compani, compar, earn, indic, share, se...             7\n",
       "19  game, sport, bet, player, good, onlin, play, m...            12"
      ]
     },
     "execution_count": 53,
     "metadata": {},
     "output_type": "execute_result"
    }
   ],
   "source": [
    "ndf"
   ]
  },
  {
   "cell_type": "code",
   "execution_count": null,
   "metadata": {},
   "outputs": [],
   "source": []
  }
 ],
 "metadata": {
  "kernelspec": {
   "display_name": "myenv",
   "language": "python",
   "name": "python3"
  },
  "language_info": {
   "codemirror_mode": {
    "name": "ipython",
    "version": 3
   },
   "file_extension": ".py",
   "mimetype": "text/x-python",
   "name": "python",
   "nbconvert_exporter": "python",
   "pygments_lexer": "ipython3",
   "version": "3.12.5"
  }
 },
 "nbformat": 4,
 "nbformat_minor": 2
}
