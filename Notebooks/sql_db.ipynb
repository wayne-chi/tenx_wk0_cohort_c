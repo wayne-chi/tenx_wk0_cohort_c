{
 "cells": [
  {
   "cell_type": "markdown",
   "metadata": {},
   "source": [
    "# Import Modules"
   ]
  },
  {
   "cell_type": "code",
   "execution_count": 1,
   "metadata": {},
   "outputs": [],
   "source": [
    "import pandas as pd\n",
    "import psycopg2\n",
    "import sqlalchemy\n",
    "from psycopg2 import Error\n",
    "from sqlalchemy import create_engine"
   ]
  },
  {
   "cell_type": "markdown",
   "metadata": {},
   "source": [
    "# Create Connection"
   ]
  },
  {
   "cell_type": "code",
   "execution_count": 3,
   "metadata": {},
   "outputs": [],
   "source": [
    "# PostgreSQL connection details\n",
    "username = \"postgres\"\n",
    "password = \"some_password\"\n",
    "host = \"localhost\"\n",
    "port = \"5432\"\n",
    "database = \"postgres\""
   ]
  },
  {
   "cell_type": "code",
   "execution_count": 24,
   "metadata": {},
   "outputs": [],
   "source": [
    "# Connect to PostgreSQL using variables\n",
    "\n",
    "connection = psycopg2.connect(\n",
    "    user=username,\n",
    "    password=password,\n",
    "    host=host,\n",
    "    port=port,\n",
    "    database=database\n",
    ")"
   ]
  },
  {
   "cell_type": "markdown",
   "metadata": {},
   "source": [
    "## Load saved df\n",
    "\n",
    "\n",
    "\n"
   ]
  },
  {
   "cell_type": "code",
   "execution_count": 15,
   "metadata": {},
   "outputs": [
    {
     "name": "stderr",
     "output_type": "stream",
     "text": [
      "<>:2: SyntaxWarning: invalid escape sequence '\\d'\n",
      "<>:2: SyntaxWarning: invalid escape sequence '\\d'\n",
      "C:\\Users\\otto\\AppData\\Local\\Temp\\ipykernel_27472\\2867905681.py:2: SyntaxWarning: invalid escape sequence '\\d'\n",
      "  ml_features_df_subset = pd.read_csv('..\\data\\ml_data.csv',)\n"
     ]
    }
   ],
   "source": [
    "# Sample ML features DataFrame\n",
    "ml_features_df_subset = pd.read_csv('..\\data\\ml_data.csv',)"
   ]
  },
  {
   "cell_type": "code",
   "execution_count": 18,
   "metadata": {},
   "outputs": [],
   "source": [
    "# Rename the \"Domain\" column in the DataFrame to match the table column name\n",
    "ml_features_df_subset.rename(columns={\"Domain\": \"domain\"}, inplace=True)"
   ]
  },
  {
   "cell_type": "code",
   "execution_count": 16,
   "metadata": {},
   "outputs": [
    {
     "data": {
      "text/html": [
       "<div>\n",
       "<style scoped>\n",
       "    .dataframe tbody tr th:only-of-type {\n",
       "        vertical-align: middle;\n",
       "    }\n",
       "\n",
       "    .dataframe tbody tr th {\n",
       "        vertical-align: top;\n",
       "    }\n",
       "\n",
       "    .dataframe thead th {\n",
       "        text-align: right;\n",
       "    }\n",
       "</style>\n",
       "<table border=\"1\" class=\"dataframe\">\n",
       "  <thead>\n",
       "    <tr style=\"text-align: right;\">\n",
       "      <th></th>\n",
       "      <th>title</th>\n",
       "      <th>Domain</th>\n",
       "      <th>tags</th>\n",
       "      <th>published_at_date</th>\n",
       "      <th>tags_encoded</th>\n",
       "      <th>lda_topics_n</th>\n",
       "      <th>nmf_topic_n</th>\n",
       "      <th>tfidf_keywords</th>\n",
       "      <th>yake_keywords</th>\n",
       "      <th>url</th>\n",
       "    </tr>\n",
       "  </thead>\n",
       "  <tbody>\n",
       "    <tr>\n",
       "      <th>0</th>\n",
       "      <td>superstar chef yannick alléno brings refined f...</td>\n",
       "      <td>forbes.com</td>\n",
       "      <td>World News</td>\n",
       "      <td>2023-11-01</td>\n",
       "      <td>13</td>\n",
       "      <td>19</td>\n",
       "      <td>15</td>\n",
       "      <td>london, chef, menu, dine, french, culinari, tr...</td>\n",
       "      <td>london, pavyllon, chef, alléno, yannick, frenc...</td>\n",
       "      <td>https://www.forbes.com/sites/elizabethbrownfie...</td>\n",
       "    </tr>\n",
       "    <tr>\n",
       "      <th>1</th>\n",
       "      <td>nice claim top spot in ligue 1 with late win a...</td>\n",
       "      <td>channelnewsasia.com</td>\n",
       "      <td>World News</td>\n",
       "      <td>2023-10-27</td>\n",
       "      <td>13</td>\n",
       "      <td>19</td>\n",
       "      <td>7</td>\n",
       "      <td>nice, ligu, point, win, provision, foul, unbea...</td>\n",
       "      <td>nice, clermont, boudaoui, point, place, top, w...</td>\n",
       "      <td>https://www.channelnewsasia.com/sport/nice-cla...</td>\n",
       "    </tr>\n",
       "    <tr>\n",
       "      <th>2</th>\n",
       "      <td>amphibians are the world’s most vulnerable spe...</td>\n",
       "      <td>time.com</td>\n",
       "      <td>World News</td>\n",
       "      <td>2023-10-04</td>\n",
       "      <td>13</td>\n",
       "      <td>16</td>\n",
       "      <td>17</td>\n",
       "      <td>frog, studi, skin, threaten, speci, biologist,...</td>\n",
       "      <td>amphibian, studi, chang, frog, threaten, speci...</td>\n",
       "      <td>https://time.com/6320467/amphibians-most-vulne...</td>\n",
       "    </tr>\n",
       "    <tr>\n",
       "      <th>3</th>\n",
       "      <td>image: rusty red waters in madagascar</td>\n",
       "      <td>phys.org</td>\n",
       "      <td>World News</td>\n",
       "      <td>2023-10-31</td>\n",
       "      <td>13</td>\n",
       "      <td>16</td>\n",
       "      <td>17</td>\n",
       "      <td>madagascar, delta, water, purpos, arteri, turt...</td>\n",
       "      <td>water, rusti, purpos, river, delta, madagascar...</td>\n",
       "      <td>https://phys.org/news/2023-10-image-rusty-red-...</td>\n",
       "    </tr>\n",
       "    <tr>\n",
       "      <th>4</th>\n",
       "      <td>everything leaving max (formerly hbo max) in n...</td>\n",
       "      <td>digitaltrends.com</td>\n",
       "      <td>World News</td>\n",
       "      <td>2023-10-23</td>\n",
       "      <td>13</td>\n",
       "      <td>19</td>\n",
       "      <td>15</td>\n",
       "      <td>nightmar, hbo, season, novemb, street, origin,...</td>\n",
       "      <td>elm, origin, street, novemb, nightmar, hbo, se...</td>\n",
       "      <td>https://www.digitaltrends.com/movies/everythin...</td>\n",
       "    </tr>\n",
       "  </tbody>\n",
       "</table>\n",
       "</div>"
      ],
      "text/plain": [
       "                                               title               Domain  \\\n",
       "0  superstar chef yannick alléno brings refined f...           forbes.com   \n",
       "1  nice claim top spot in ligue 1 with late win a...  channelnewsasia.com   \n",
       "2  amphibians are the world’s most vulnerable spe...             time.com   \n",
       "3              image: rusty red waters in madagascar             phys.org   \n",
       "4  everything leaving max (formerly hbo max) in n...    digitaltrends.com   \n",
       "\n",
       "         tags published_at_date  tags_encoded  lda_topics_n  nmf_topic_n  \\\n",
       "0  World News        2023-11-01            13            19           15   \n",
       "1  World News        2023-10-27            13            19            7   \n",
       "2  World News        2023-10-04            13            16           17   \n",
       "3  World News        2023-10-31            13            16           17   \n",
       "4  World News        2023-10-23            13            19           15   \n",
       "\n",
       "                                      tfidf_keywords  \\\n",
       "0  london, chef, menu, dine, french, culinari, tr...   \n",
       "1  nice, ligu, point, win, provision, foul, unbea...   \n",
       "2  frog, studi, skin, threaten, speci, biologist,...   \n",
       "3  madagascar, delta, water, purpos, arteri, turt...   \n",
       "4  nightmar, hbo, season, novemb, street, origin,...   \n",
       "\n",
       "                                       yake_keywords  \\\n",
       "0  london, pavyllon, chef, alléno, yannick, frenc...   \n",
       "1  nice, clermont, boudaoui, point, place, top, w...   \n",
       "2  amphibian, studi, chang, frog, threaten, speci...   \n",
       "3  water, rusti, purpos, river, delta, madagascar...   \n",
       "4  elm, origin, street, novemb, nightmar, hbo, se...   \n",
       "\n",
       "                                                 url  \n",
       "0  https://www.forbes.com/sites/elizabethbrownfie...  \n",
       "1  https://www.channelnewsasia.com/sport/nice-cla...  \n",
       "2  https://time.com/6320467/amphibians-most-vulne...  \n",
       "3  https://phys.org/news/2023-10-image-rusty-red-...  \n",
       "4  https://www.digitaltrends.com/movies/everythin...  "
      ]
     },
     "execution_count": 16,
     "metadata": {},
     "output_type": "execute_result"
    }
   ],
   "source": [
    "ml_features_df_subset.head()"
   ]
  },
  {
   "cell_type": "code",
   "execution_count": null,
   "metadata": {},
   "outputs": [],
   "source": []
  },
  {
   "cell_type": "markdown",
   "metadata": {},
   "source": [
    "## create table in sql"
   ]
  },
  {
   "cell_type": "code",
   "execution_count": 25,
   "metadata": {},
   "outputs": [
    {
     "name": "stdout",
     "output_type": "stream",
     "text": [
      "Table dropped successfully!\n"
     ]
    }
   ],
   "source": [
    "# drop_table_query = \"DROP TABLE IF EXISTS ml_features;\"\n",
    "# # Execute SQL query to create tables\n",
    "# try:\n",
    "#     cursor = connection.cursor()\n",
    "#     cursor.execute(drop_table_query)\n",
    "#     connection.commit()\n",
    "#     print(\"Table dropped successfully!\")\n",
    "# except (Exception, Error) as error:\n",
    "#     print(\"Error while dropping table:\", error)\n",
    "# finally:\n",
    "#     if connection:\n",
    "#         cursor.close()\n"
   ]
  },
  {
   "cell_type": "code",
   "execution_count": 26,
   "metadata": {},
   "outputs": [],
   "source": [
    "# SQL query to create the table with relevant columns\n",
    "create_table_query = \"\"\"\n",
    "CREATE TABLE IF NOT EXISTS ml_features (\n",
    "    title TEXT,\n",
    "    Domain VARCHAR(255),\n",
    "    tags VARCHAR(255),\n",
    "    published_at_date DATE,\n",
    "    tags_encoded INT,\n",
    "    lda_topics_n INT,\n",
    "    nmf_topic_n INT,\n",
    "    tfidf_keywords TEXT,\n",
    "    yake_keywords TEXT,\n",
    "    url TEXT\n",
    ");\n",
    "\"\"\"\n",
    "\n"
   ]
  },
  {
   "cell_type": "code",
   "execution_count": 13,
   "metadata": {},
   "outputs": [
    {
     "name": "stdout",
     "output_type": "stream",
     "text": [
      "Table created successfully!\n"
     ]
    }
   ],
   "source": [
    "# Execute SQL query to create tables\n",
    "try:\n",
    "    cursor = connection.cursor()\n",
    "    cursor.execute(create_table_query)\n",
    "    connection.commit()\n",
    "    print(\"Table created successfully!\")\n",
    "except (Exception, Error) as error:\n",
    "    print(\"Error while creating table:\", error)\n",
    "finally:\n",
    "    if connection:\n",
    "        cursor.close()"
   ]
  },
  {
   "cell_type": "code",
   "execution_count": null,
   "metadata": {},
   "outputs": [],
   "source": []
  },
  {
   "cell_type": "code",
   "execution_count": 27,
   "metadata": {},
   "outputs": [
    {
     "name": "stdout",
     "output_type": "stream",
     "text": [
      "Data loaded into PostgreSQL successfully!\n"
     ]
    }
   ],
   "source": [
    "# Load data into PostgreSQL\n",
    "try:\n",
    "    # Create SQLAlchemy engine\n",
    "    engine = create_engine(f'postgresql://{username}:{password}@{host}:{port}/{database}')\n",
    "\n",
    "    # Replace 'ml_features' with the name of your existing table\n",
    "    ml_features_df_subset.to_sql('ml_features', engine, if_exists='append', index=False)\n",
    "\n",
    "    print(\"Data loaded into PostgreSQL successfully!\")\n",
    "except Exception as e:\n",
    "    print(\"Error while loading data into PostgreSQL:\", e)\n",
    "finally:\n",
    "    # Close the connection\n",
    "    if connection:\n",
    "        connection.close()"
   ]
  },
  {
   "cell_type": "markdown",
   "metadata": {},
   "source": [
    "##"
   ]
  }
 ],
 "metadata": {
  "kernelspec": {
   "display_name": "myenv",
   "language": "python",
   "name": "python3"
  },
  "language_info": {
   "codemirror_mode": {
    "name": "ipython",
    "version": 3
   },
   "file_extension": ".py",
   "mimetype": "text/x-python",
   "name": "python",
   "nbconvert_exporter": "python",
   "pygments_lexer": "ipython3",
   "version": "3.12.5"
  }
 },
 "nbformat": 4,
 "nbformat_minor": 2
}
